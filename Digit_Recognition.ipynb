{
  "cells": [
    {
      "cell_type": "markdown",
      "source": [
        "# Importing Libraries"
      ],
      "metadata": {
        "id": "7DXcDUERP4J9"
      }
    },
    {
      "cell_type": "code",
      "execution_count": null,
      "metadata": {
        "id": "kCZ1-vAdJsG9"
      },
      "outputs": [],
      "source": [
        "import numpy as np\n",
        "import matplotlib.pyplot as plt\n",
        "import tensorflow as tf\n",
        "import keras\n",
        "from keras.datasets import mnist \n"
      ]
    },
    {
      "cell_type": "markdown",
      "source": [
        "# Getting Dataset"
      ],
      "metadata": {
        "id": "Ef9G4XolQJAT"
      }
    },
    {
      "cell_type": "code",
      "execution_count": null,
      "metadata": {
        "id": "ClNwYF4cJ8Wa",
        "colab": {
          "base_uri": "https://localhost:8080/"
        },
        "outputId": "16a25cee-aa2c-4d5d-aae5-0d7c1a5e144a"
      },
      "outputs": [
        {
          "output_type": "stream",
          "name": "stdout",
          "text": [
            "Downloading data from https://storage.googleapis.com/tensorflow/tf-keras-datasets/mnist.npz\n",
            "11490434/11490434 [==============================] - 0s 0us/step\n"
          ]
        }
      ],
      "source": [
        "(X_train, y_train), (X_test, y_test) = mnist.load_data()"
      ]
    },
    {
      "cell_type": "code",
      "execution_count": null,
      "metadata": {
        "colab": {
          "base_uri": "https://localhost:8080/"
        },
        "id": "QzGpKmLnLNzC",
        "outputId": "e03ed045-5e43-430e-817a-5a5e9b101607"
      },
      "outputs": [
        {
          "output_type": "execute_result",
          "data": {
            "text/plain": [
              "((60000, 28, 28), (60000,), (10000, 28, 28), (10000,))"
            ]
          },
          "metadata": {},
          "execution_count": 4
        }
      ],
      "source": [
        "X_train.shape, y_train.shape, X_test.shape, y_test.shape"
      ]
    },
    {
      "cell_type": "code",
      "execution_count": null,
      "metadata": {
        "colab": {
          "base_uri": "https://localhost:8080/",
          "height": 452
        },
        "id": "aEhPXBEU9poS",
        "outputId": "d1c605f0-cc8e-4026-a734-94a884d09d37"
      },
      "outputs": [
        {
          "output_type": "display_data",
          "data": {
            "text/plain": [
              "<Figure size 640x480 with 1 Axes>"
            ],
            "image/png": "[encoded data removed]"
          },
          "metadata": {}
        }
      ],
      "source": [
        "def plot_img(i):\n",
        "  plt.imshow(X_train[i], cmap = 'binary')\n",
        "  plt.title(y_train[i])\n",
        "  plt.show()\n",
        "\n",
        "plot_img(7000)"
      ]
    },
    {
      "cell_type": "markdown",
      "source": [
        "# Pre-Processing Data"
      ],
      "metadata": {
        "id": "DaiXhWwNQQqS"
      }
    },
    {
      "cell_type": "code",
      "source": [
        "X_train = X_train.astype(np.float32)/255\n",
        "X_test = X_test.astype(np.float32)/255\n",
        "\n",
        "X_train = np.expand_dims(X_train, -1)\n",
        "X_test = np.expand_dims(X_test, -1)"
      ],
      "metadata": {
        "id": "H9OmZbaaP7N7"
      },
      "execution_count": null,
      "outputs": []
    },
    {
      "cell_type": "code",
      "source": [
        "y_train = keras.utils.to_categorical(y_train)\n",
        "y_test = keras.utils.to_categorical(y_test)"
      ],
      "metadata": {
        "id": "rBXX3_m1QhR0"
      },
      "execution_count": null,
      "outputs": []
    },
    {
      "cell_type": "markdown",
      "source": [
        "# Model Training"
      ],
      "metadata": {
        "id": "3rLTmnejQXDE"
      }
    },
    {
      "cell_type": "code",
      "execution_count": null,
      "metadata": {
        "id": "Z1fP2awXEJO0"
      },
      "outputs": [],
      "source": [
        "cnn = tf.keras.models.Sequential()\n",
        "\n",
        "cnn.add(tf.keras.layers.Conv2D(filters=32, kernel_size=3, activation='relu', input_shape=[28, 28, 1]))\n",
        "cnn.add(tf.keras.layers.MaxPool2D(pool_size=2, strides=2))\n",
        "\n",
        "cnn.add(tf.keras.layers.Conv2D(filters=64, kernel_size=3, activation='relu'))\n",
        "cnn.add(tf.keras.layers.MaxPool2D(pool_size=2, strides=2))\n",
        "\n",
        "cnn.add(tf.keras.layers.Flatten())\n",
        "cnn.add(tf.keras.layers.Dropout(0.25))\n",
        "cnn.add(tf.keras.layers.Dense(10,activation = \"softmax\"))\n",
        "\n"
      ]
    },
    {
      "cell_type": "code",
      "source": [
        "cnn.summary()"
      ],
      "metadata": {
        "colab": {
          "base_uri": "https://localhost:8080/"
        },
        "id": "hBRDW80a2qk1",
        "outputId": "92868156-ee51-45f3-ec66-17e45e8cd611"
      },
      "execution_count": null,
      "outputs": [
        {
          "output_type": "stream",
          "name": "stdout",
          "text": [
            "Model: \"sequential\"\n",
            "_________________________________________________________________\n",
            " Layer (type)                Output Shape              Param #   \n",
            "=================================================================\n",
            " conv2d (Conv2D)             (None, 26, 26, 32)        320       \n",
            "                                                                 \n",
            " max_pooling2d (MaxPooling2D  (None, 13, 13, 32)       0         \n",
            " )                                                               \n",
            "                                                                 \n",
            " conv2d_1 (Conv2D)           (None, 11, 11, 64)        18496     \n",
            "                                                                 \n",
            " max_pooling2d_1 (MaxPooling  (None, 5, 5, 64)         0         \n",
            " 2D)                                                             \n",
            "                                                                 \n",
            " flatten (Flatten)           (None, 1600)              0         \n",
            "                                                                 \n",
            " dropout (Dropout)           (None, 1600)              0         \n",
            "                                                                 \n",
            " dense (Dense)               (None, 10)                16010     \n",
            "                                                                 \n",
            "=================================================================\n",
            "Total params: 34,826\n",
            "Trainable params: 34,826\n",
            "Non-trainable params: 0\n",
            "_________________________________________________________________\n"
          ]
        }
      ]
    },
    {
      "cell_type": "code",
      "execution_count": null,
      "metadata": {
        "id": "m__DvBdjJEas"
      },
      "outputs": [],
      "source": [
        "cnn.compile(optimizer = 'adam', loss = keras.losses.categorical_crossentropy , metrics = ['accuracy'])"
      ]
    },
    {
      "cell_type": "code",
      "source": [
        "cnn.fit(X_train, y_train, epochs = 25, validation_split=0.3)"
      ],
      "metadata": {
        "colab": {
          "base_uri": "https://localhost:8080/"
        },
        "id": "TJwnrUocOj-B",
        "outputId": "12b4dad7-0620-4cc0-a6dc-15229888d637"
      },
      "execution_count": null,
      "outputs": [
        {
          "output_type": "stream",
          "name": "stdout",
          "text": [
            "Epoch 1/25\n",
            "1313/1313 [==============================] - 46s 34ms/step - loss: 0.2080 - accuracy: 0.9378 - val_loss: 0.0770 - val_accuracy: 0.9769\n",
            "Epoch 2/25\n",
            "1313/1313 [==============================] - 37s 28ms/step - loss: 0.0739 - accuracy: 0.9779 - val_loss: 0.0636 - val_accuracy: 0.9802\n",
            "Epoch 3/25\n",
            "1313/1313 [==============================] - 38s 29ms/step - loss: 0.0549 - accuracy: 0.9825 - val_loss: 0.0514 - val_accuracy: 0.9836\n",
            "Epoch 4/25\n",
            "1313/1313 [==============================] - 37s 28ms/step - loss: 0.0441 - accuracy: 0.9865 - val_loss: 0.0493 - val_accuracy: 0.9854\n",
            "Epoch 5/25\n",
            "1313/1313 [==============================] - 38s 29ms/step - loss: 0.0375 - accuracy: 0.9882 - val_loss: 0.0425 - val_accuracy: 0.9880\n",
            "Epoch 6/25\n",
            "1313/1313 [==============================] - 36s 27ms/step - loss: 0.0334 - accuracy: 0.9898 - val_loss: 0.0419 - val_accuracy: 0.9869\n",
            "Epoch 7/25\n",
            "1313/1313 [==============================] - 38s 29ms/step - loss: 0.0279 - accuracy: 0.9914 - val_loss: 0.0461 - val_accuracy: 0.9873\n",
            "Epoch 8/25\n",
            "1313/1313 [==============================] - 37s 28ms/step - loss: 0.0250 - accuracy: 0.9919 - val_loss: 0.0376 - val_accuracy: 0.9894\n",
            "Epoch 9/25\n",
            "1313/1313 [==============================] - 38s 29ms/step - loss: 0.0243 - accuracy: 0.9919 - val_loss: 0.0381 - val_accuracy: 0.9887\n",
            "Epoch 10/25\n",
            "  56/1313 [>.............................] - ETA: 27s - loss: 0.0200 - accuracy: 0.9950"
          ]
        }
      ]
    },
    {
      "cell_type": "markdown",
      "source": [
        "# Evaluating Test samples and Checking accuracy "
      ],
      "metadata": {
        "id": "83A8DfEcX798"
      }
    },
    {
      "cell_type": "code",
      "source": [
        "test_loss, test_acc = cnn.evaluate(X_test, y_test)"
      ],
      "metadata": {
        "id": "xpyxWE103MOY"
      },
      "execution_count": null,
      "outputs": []
    },
    {
      "cell_type": "code",
      "source": [
        "print(\"Validation accuracy on 10,000 test samples : \", test_acc)"
      ],
      "metadata": {
        "id": "9mlw0hmLXobG"
      },
      "execution_count": null,
      "outputs": []
    }
  ],
  "metadata": {
    "colab": {
      "provenance": [],
      "toc_visible": true
    },
    "kernelspec": {
      "display_name": "Python 3",
      "name": "python3"
    },
    "language_info": {
      "name": "python"
    }
  },
  "nbformat": 4,
  "nbformat_minor": 0
}